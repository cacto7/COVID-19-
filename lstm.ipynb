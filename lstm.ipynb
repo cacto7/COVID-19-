{
 "cells": [
  {
   "cell_type": "code",
   "execution_count": 7,
   "metadata": {},
   "outputs": [
    {
     "data": {
      "text/html": [
       "<div>\n",
       "<style scoped>\n",
       "    .dataframe tbody tr th:only-of-type {\n",
       "        vertical-align: middle;\n",
       "    }\n",
       "\n",
       "    .dataframe tbody tr th {\n",
       "        vertical-align: top;\n",
       "    }\n",
       "\n",
       "    .dataframe thead th {\n",
       "        text-align: right;\n",
       "    }\n",
       "</style>\n",
       "<table border=\"1\" class=\"dataframe\">\n",
       "  <thead>\n",
       "    <tr style=\"text-align: right;\">\n",
       "      <th></th>\n",
       "      <th>Confirmed</th>\n",
       "    </tr>\n",
       "    <tr>\n",
       "      <th>ObservationDate</th>\n",
       "      <th></th>\n",
       "    </tr>\n",
       "  </thead>\n",
       "  <tbody>\n",
       "    <tr>\n",
       "      <th>2020-03-08</th>\n",
       "      <td>3</td>\n",
       "    </tr>\n",
       "    <tr>\n",
       "      <th>2020-03-09</th>\n",
       "      <td>3</td>\n",
       "    </tr>\n",
       "    <tr>\n",
       "      <th>2020-03-10</th>\n",
       "      <td>3</td>\n",
       "    </tr>\n",
       "    <tr>\n",
       "      <th>2020-03-11</th>\n",
       "      <td>3</td>\n",
       "    </tr>\n",
       "    <tr>\n",
       "      <th>2020-03-12</th>\n",
       "      <td>3</td>\n",
       "    </tr>\n",
       "  </tbody>\n",
       "</table>\n",
       "</div>"
      ],
      "text/plain": [
       "                 Confirmed\n",
       "ObservationDate           \n",
       "2020-03-08               3\n",
       "2020-03-09               3\n",
       "2020-03-10               3\n",
       "2020-03-11               3\n",
       "2020-03-12               3"
      ]
     },
     "execution_count": 7,
     "metadata": {},
     "output_type": "execute_result"
    }
   ],
   "source": [
    "import pandas as pd\n",
    "data=pd.read_csv('banladesh.csv',index_col='ObservationDate',parse_dates=True)\n",
    "data.head()"
   ]
  },
  {
   "cell_type": "code",
   "execution_count": 8,
   "metadata": {},
   "outputs": [],
   "source": [
    "import math\n",
    "from sklearn import metrics\n",
    "import numpy as np\n",
    "import matplotlib.pyplot as plt\n",
    "import tensorflow as tf\n",
    "from keras.models import Sequential\n",
    "from keras.layers import Dense,LSTM\n",
    "from tensorflow.keras.initializers import GlorotUniform, HeNormal\n",
    "from numpy.random import seed\n",
    "seed(1)\n",
    "import tensorflow\n",
    "tensorflow.random.set_seed(101)\n"
   ]
  },
  {
   "cell_type": "code",
   "execution_count": 9,
   "metadata": {},
   "outputs": [],
   "source": [
    "def train_test_split(data,n_test):\n",
    "    return data[:-n_test],data[-n_test:]\n",
    "\n",
    "def series_to_supervised(data,n_in,n_out=1):\n",
    "    df=pd.DataFrame(data)\n",
    "    cols=list()\n",
    "\n",
    "    for i in range(n_in,0,-1):\n",
    "        cols.append(df.shift(i))\n",
    "    \n",
    "    for i in range(0,n_out):\n",
    "        cols.append(df.shift(-i))\n",
    "    \n",
    "    agg=pd.concat(cols,axis=1)\n",
    "    agg.dropna(inplace=True)\n",
    "    #print(agg.head(5))\n",
    "\n",
    "    return agg.values\n",
    "def difference(data,interval):\n",
    "    return [data[i]-data[i-interval] for i in range(interval,len(data))]\n",
    "\n",
    "def model_fit(train,config):\n",
    "\n",
    "    n_input, n_nodes, n_epochs, n_batch,n_diff= config\n",
    "\n",
    "    if n_diff>0:\n",
    "        train=difference(train,n_diff)\n",
    "\n",
    "    data=series_to_supervised(train,n_input)\n",
    "    \n",
    "    train_x, train_y=data[:,:-1],data[:,-1]\n",
    "    #print(train_x.shape)\n",
    "    train_x=train_x.reshape((train_x.shape[0],train_x.shape[1],1))\n",
    "\n",
    "    model=Sequential()\n",
    "    model.add(LSTM(n_nodes,activation='relu',input_shape=(n_input,1),kernel_initializer=HeNormal()))\n",
    "    model.add(Dense(n_nodes,activation='relu'))\n",
    "    model.add(Dense(1))\n",
    "    model.compile(loss='mse',optimizer='adam')\n",
    "\n",
    "    model.fit(train_x,train_y,epochs=n_epochs, batch_size=n_batch,verbose=0)\n",
    "    return model\n",
    "\n",
    "def model_predict(model,history,config):\n",
    "    n_input,_,_,_,n_diff=config\n",
    "    \n",
    "    correction=0.0\n",
    "    if n_diff>0:\n",
    "        correction=history[-n_diff]\n",
    "        history=difference(history,n_diff)\n",
    "\n",
    "    x_input=np.array(history[-n_input:]).reshape((1,n_input,1))\n",
    "    #print(x_input)\n",
    "    y_hat=model.predict(x_input,verbose=0)\n",
    "    return correction + y_hat[0].round()\n",
    "\n",
    "def measure_rmse(actual,prediction):\n",
    "    return math.sqrt(metrics.mean_squared_error(actual,prediction,squared=False))\n",
    "\n",
    "def walk_forward_validation(data,n_test,cfg):\n",
    "    predictions=list()\n",
    "    train,test=train_test_split(data,n_test)\n",
    "\n",
    "    model=model_fit(train,cfg)\n",
    "\n",
    "    history=[x for x in train]\n",
    "    \n",
    "    for i in range(len(test)):\n",
    "        yhat=model_predict(model,history,cfg)\n",
    "        predictions.append(yhat.round())\n",
    "        history.append(test[i])\n",
    "    error=measure_rmse(test,predictions)\n",
    "    print(\" > %.3f \" %error)\n",
    "    return error\n",
    "def repeat_evaluate(data,config,n_test,n_repeats=5):\n",
    "    scores=[walk_forward_validation(data,n_test,config) for _ in range(int(n_repeats))]\n",
    "    return scores\n",
    "def summarize_scores(name,scores):\n",
    "    scores_m, score_std= np.mean(scores), np.std(scores)\n",
    "    print(\"%s: %.3f RMSE (+/- %3f\" %(name,scores_m,score_std))\n",
    "    plt.boxplot(scores)\n",
    "    plt.show()\n"
   ]
  },
  {
   "cell_type": "code",
   "execution_count": 10,
   "metadata": {},
   "outputs": [],
   "source": [
    "data=data.values"
   ]
  },
  {
   "attachments": {},
   "cell_type": "markdown",
   "metadata": {},
   "source": [
    "### without round the number averge is 192.466 and variation is 13.84"
   ]
  },
  {
   "cell_type": "code",
   "execution_count": 11,
   "metadata": {},
   "outputs": [
    {
     "name": "stdout",
     "output_type": "stream",
     "text": [
      " > 153.773 \n",
      " > 200.247 \n",
      " > 126.992 \n",
      " > 1339.262 \n",
      " > 425.106 \n",
      "Persistence: 449.076 RMSE (+/- 457.354119\n"
     ]
    },
    {
     "data": {
      "image/png": "[encoded data removed]",
      "text/plain": [
       "<Figure size 640x480 with 1 Axes>"
      ]
     },
     "metadata": {},
     "output_type": "display_data"
    }
   ],
   "source": [
    "n_test=164\n",
    "config=[12,100,100,100,0]\n",
    "scores=repeat_evaluate(data,config,n_test)\n",
    "\n",
    "summarize_scores('Persistence',scores)"
   ]
  },
  {
   "cell_type": "code",
   "execution_count": 4,
   "metadata": {},
   "outputs": [],
   "source": []
  },
  {
   "cell_type": "code",
   "execution_count": 13,
   "metadata": {},
   "outputs": [
    {
     "name": "stdout",
     "output_type": "stream",
     "text": [
      " > 95.280 \n"
     ]
    }
   ],
   "source": [
    "tensorflow.random.set_seed(105)\n",
    "n_test=164\n",
    "config=[6,50,100,100,0]\n",
    "predictions=list()\n",
    "train,test=train_test_split(data,n_test)\n",
    "\n",
    "model=model_fit(train,config)\n",
    "\n",
    "history=[x for x in train]\n",
    "\n",
    "for i in range(len(test)):\n",
    "    yhat=model_predict(model,history,config)\n",
    "    predictions.append(yhat.round())\n",
    "    history.append(test[i])\n",
    "error=measure_rmse(test,predictions)\n",
    "print(\" > %.3f \" %error)"
   ]
  },
  {
   "cell_type": "code",
   "execution_count": 14,
   "metadata": {},
   "outputs": [],
   "source": [
    "test_np=list()\n",
    "for i in range(test.shape[0]):\n",
    "    test_np.append(test[i][0])"
   ]
  },
  {
   "cell_type": "code",
   "execution_count": 15,
   "metadata": {},
   "outputs": [],
   "source": [
    "prediction_np=list()\n",
    "for i in range(test.shape[0]):\n",
    "    prediction_np.append(predictions[i][0].round())"
   ]
  },
  {
   "cell_type": "code",
   "execution_count": 16,
   "metadata": {},
   "outputs": [
    {
     "data": {
      "text/html": [
       "<div>\n",
       "<style scoped>\n",
       "    .dataframe tbody tr th:only-of-type {\n",
       "        vertical-align: middle;\n",
       "    }\n",
       "\n",
       "    .dataframe tbody tr th {\n",
       "        vertical-align: top;\n",
       "    }\n",
       "\n",
       "    .dataframe thead th {\n",
       "        text-align: right;\n",
       "    }\n",
       "</style>\n",
       "<table border=\"1\" class=\"dataframe\">\n",
       "  <thead>\n",
       "    <tr style=\"text-align: right;\">\n",
       "      <th></th>\n",
       "      <th>test</th>\n",
       "      <th>predict</th>\n",
       "    </tr>\n",
       "  </thead>\n",
       "  <tbody>\n",
       "    <tr>\n",
       "      <th>0</th>\n",
       "      <td>1591093</td>\n",
       "      <td>1595311.0</td>\n",
       "    </tr>\n",
       "    <tr>\n",
       "      <th>1</th>\n",
       "      <td>1592209</td>\n",
       "      <td>1596395.0</td>\n",
       "    </tr>\n",
       "    <tr>\n",
       "      <th>2</th>\n",
       "      <td>1593700</td>\n",
       "      <td>1597514.0</td>\n",
       "    </tr>\n",
       "    <tr>\n",
       "      <th>3</th>\n",
       "      <td>1595931</td>\n",
       "      <td>1598740.0</td>\n",
       "    </tr>\n",
       "    <tr>\n",
       "      <th>4</th>\n",
       "      <td>1598389</td>\n",
       "      <td>1600361.0</td>\n",
       "    </tr>\n",
       "  </tbody>\n",
       "</table>\n",
       "</div>"
      ],
      "text/plain": [
       "      test    predict\n",
       "0  1591093  1595311.0\n",
       "1  1592209  1596395.0\n",
       "2  1593700  1597514.0\n",
       "3  1595931  1598740.0\n",
       "4  1598389  1600361.0"
      ]
     },
     "execution_count": 16,
     "metadata": {},
     "output_type": "execute_result"
    }
   ],
   "source": [
    "test_np=np.array(test_np)\n",
    "prediction_np=np.array(prediction_np)\n",
    "prediction_data=pd.DataFrame({'test':test_np,'predict':prediction_np})\n",
    "prediction_data.head()"
   ]
  },
  {
   "cell_type": "code",
   "execution_count": 17,
   "metadata": {},
   "outputs": [
    {
     "data": {
      "text/plain": [
       "<Axes: >"
      ]
     },
     "execution_count": 17,
     "metadata": {},
     "output_type": "execute_result"
    },
    {
     "data": {
      "image/png": "[encoded data removed]",
      "text/plain": [
       "<Figure size 640x480 with 1 Axes>"
      ]
     },
     "metadata": {},
     "output_type": "display_data"
    }
   ],
   "source": [
    "prediction_data.plot()"
   ]
  },
  {
   "cell_type": "code",
   "execution_count": 18,
   "metadata": {},
   "outputs": [
    {
     "data": {
      "text/html": [
       "<div>\n",
       "<style scoped>\n",
       "    .dataframe tbody tr th:only-of-type {\n",
       "        vertical-align: middle;\n",
       "    }\n",
       "\n",
       "    .dataframe tbody tr th {\n",
       "        vertical-align: top;\n",
       "    }\n",
       "\n",
       "    .dataframe thead th {\n",
       "        text-align: right;\n",
       "    }\n",
       "</style>\n",
       "<table border=\"1\" class=\"dataframe\">\n",
       "  <thead>\n",
       "    <tr style=\"text-align: right;\">\n",
       "      <th></th>\n",
       "      <th>Confirmed</th>\n",
       "    </tr>\n",
       "    <tr>\n",
       "      <th>ObservationDate</th>\n",
       "      <th></th>\n",
       "    </tr>\n",
       "  </thead>\n",
       "  <tbody>\n",
       "    <tr>\n",
       "      <th>2020-03-08</th>\n",
       "      <td>3</td>\n",
       "    </tr>\n",
       "    <tr>\n",
       "      <th>2020-03-09</th>\n",
       "      <td>3</td>\n",
       "    </tr>\n",
       "    <tr>\n",
       "      <th>2020-03-10</th>\n",
       "      <td>3</td>\n",
       "    </tr>\n",
       "    <tr>\n",
       "      <th>2020-03-11</th>\n",
       "      <td>3</td>\n",
       "    </tr>\n",
       "    <tr>\n",
       "      <th>2020-03-12</th>\n",
       "      <td>3</td>\n",
       "    </tr>\n",
       "  </tbody>\n",
       "</table>\n",
       "</div>"
      ],
      "text/plain": [
       "                 Confirmed\n",
       "ObservationDate           \n",
       "2020-03-08               3\n",
       "2020-03-09               3\n",
       "2020-03-10               3\n",
       "2020-03-11               3\n",
       "2020-03-12               3"
      ]
     },
     "execution_count": 18,
     "metadata": {},
     "output_type": "execute_result"
    }
   ],
   "source": [
    "data_2=pd.read_csv('banladesh.csv',index_col='ObservationDate',parse_dates=True)\n",
    "data_2.head()"
   ]
  },
  {
   "cell_type": "code",
   "execution_count": 19,
   "metadata": {},
   "outputs": [],
   "source": [
    "new_predict=pd.concat([prediction_data,pd.DataFrame(data_2.index[-164:])],axis=1)"
   ]
  },
  {
   "cell_type": "code",
   "execution_count": 22,
   "metadata": {},
   "outputs": [
    {
     "data": {
      "image/png": "[encoded data removed]",
      "text/plain": [
       "<Figure size 640x480 with 1 Axes>"
      ]
     },
     "metadata": {},
     "output_type": "display_data"
    }
   ],
   "source": [
    "from matplotlib import pyplot as plt\n",
    "plt.rcParams[\"savefig.dpi\"] = 360\n",
    "new_predict.plot(x='ObservationDate')\n",
    "plt.title('CNN')\n",
    "plt.grid()"
   ]
  },
  {
   "cell_type": "code",
   "execution_count": null,
   "metadata": {},
   "outputs": [],
   "source": []
  }
 ],
 "metadata": {
  "kernelspec": {
   "display_name": "email_categorize",
   "language": "python",
   "name": "python3"
  },
  "language_info": {
   "codemirror_mode": {
    "name": "ipython",
    "version": 3
   },
   "file_extension": ".py",
   "mimetype": "text/x-python",
   "name": "python",
   "nbconvert_exporter": "python",
   "pygments_lexer": "ipython3",
   "version": "3.8.0"
  },
  "orig_nbformat": 4,
  "vscode": {
   "interpreter": {
    "hash": "e14e104d4b701a0683345490fba90549ef62b29809b12215744b0dbd5c68f59c"
   }
  }
 },
 "nbformat": 4,
 "nbformat_minor": 2
}
