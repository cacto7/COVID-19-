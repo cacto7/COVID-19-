{
 "cells": [
  {
   "cell_type": "code",
   "execution_count": 1,
   "metadata": {},
   "outputs": [
    {
     "data": {
      "text/html": [
       "<div>\n",
       "<style scoped>\n",
       "    .dataframe tbody tr th:only-of-type {\n",
       "        vertical-align: middle;\n",
       "    }\n",
       "\n",
       "    .dataframe tbody tr th {\n",
       "        vertical-align: top;\n",
       "    }\n",
       "\n",
       "    .dataframe thead th {\n",
       "        text-align: right;\n",
       "    }\n",
       "</style>\n",
       "<table border=\"1\" class=\"dataframe\">\n",
       "  <thead>\n",
       "    <tr style=\"text-align: right;\">\n",
       "      <th></th>\n",
       "      <th>Confirmed</th>\n",
       "    </tr>\n",
       "    <tr>\n",
       "      <th>ObservationDate</th>\n",
       "      <th></th>\n",
       "    </tr>\n",
       "  </thead>\n",
       "  <tbody>\n",
       "    <tr>\n",
       "      <th>2020-03-08</th>\n",
       "      <td>3</td>\n",
       "    </tr>\n",
       "    <tr>\n",
       "      <th>2020-03-09</th>\n",
       "      <td>3</td>\n",
       "    </tr>\n",
       "    <tr>\n",
       "      <th>2020-03-10</th>\n",
       "      <td>3</td>\n",
       "    </tr>\n",
       "    <tr>\n",
       "      <th>2020-03-11</th>\n",
       "      <td>3</td>\n",
       "    </tr>\n",
       "    <tr>\n",
       "      <th>2020-03-12</th>\n",
       "      <td>3</td>\n",
       "    </tr>\n",
       "  </tbody>\n",
       "</table>\n",
       "</div>"
      ],
      "text/plain": [
       "                 Confirmed\n",
       "ObservationDate           \n",
       "2020-03-08               3\n",
       "2020-03-09               3\n",
       "2020-03-10               3\n",
       "2020-03-11               3\n",
       "2020-03-12               3"
      ]
     },
     "execution_count": 1,
     "metadata": {},
     "output_type": "execute_result"
    }
   ],
   "source": [
    "import pandas as pd\n",
    "data=pd.read_csv('banladesh.csv',index_col='ObservationDate',parse_dates=True)\n",
    "data.head()"
   ]
  },
  {
   "cell_type": "code",
   "execution_count": null,
   "metadata": {},
   "outputs": [],
   "source": [
    "data.head(10)"
   ]
  },
  {
   "cell_type": "code",
   "execution_count": 2,
   "metadata": {},
   "outputs": [],
   "source": [
    "import math\n",
    "from sklearn import metrics\n",
    "import numpy as np\n",
    "import matplotlib.pyplot as plt\n",
    "import tensorflow as tf\n",
    "from keras.models import Sequential\n",
    "from keras.layers import Dense\n"
   ]
  },
  {
   "cell_type": "code",
   "execution_count": 3,
   "metadata": {},
   "outputs": [],
   "source": [
    "def train_test_split(data,n_test):\n",
    "    return data[:-n_test],data[-n_test:]\n",
    "\n",
    "def series_to_supervised(data,n_in,n_out=1):\n",
    "    df=pd.DataFrame(data)\n",
    "    cols=list()\n",
    "\n",
    "    for i in range(n_in,0,-1):\n",
    "        cols.append(df.shift(i))\n",
    "    \n",
    "    for i in range(0,n_out):\n",
    "        cols.append(df.shift(-i))\n",
    "    \n",
    "    agg=pd.concat(cols,axis=1)\n",
    "    agg.dropna(inplace=True)\n",
    "    #print(agg.head(5))\n",
    "\n",
    "    return agg.values"
   ]
  },
  {
   "cell_type": "code",
   "execution_count": 4,
   "metadata": {},
   "outputs": [],
   "source": [
    "def model_fit(train,config):\n",
    "    return None\n",
    "\n",
    "def model_predict(model,history,config):\n",
    "    values=list()\n",
    "    for offset in config:\n",
    "        values.append(history[-offset])\n",
    "    return np.median(values)\n",
    "\n",
    "def measure_rmse(actual,prediction):\n",
    "    return math.sqrt(metrics.mean_squared_error(actual,prediction,squared=False))\n",
    "\n",
    "def walk_forward_validation(data,n_test,cfg):\n",
    "    predictions=list()\n",
    "    train,test=train_test_split(data,n_test)\n",
    "\n",
    "    model=model_fit(train,cfg)\n",
    "\n",
    "    history=[x for x in train]\n",
    "    # print(len(history))\n",
    "    # print(type(test))\n",
    "    # print(len(test))\n",
    "    for i in range(len(test)):\n",
    "        yhat=model_predict(model,history,cfg)\n",
    "        predictions.append(yhat)\n",
    "        history.append(test[i])\n",
    "    error=measure_rmse(test,predictions)\n",
    "    print(\"  %.3f \" %error)\n",
    "    return error\n",
    "def repeat_evaluate(data,config,n_test,n_repeats=5):\n",
    "    scores=[walk_forward_validation(data,n_test,config) for _ in range(int(n_repeats))]\n",
    "    return scores\n",
    "def summarize_scores(name,scores):\n",
    "    scores_m, score_std= np.mean(scores), np.std(scores)\n",
    "    print(\"%s: %.3f RMSE (+/- %3f\" %(name,scores_m,score_std))\n",
    "    plt.boxplot(scores)\n",
    "    plt.show()\n"
   ]
  },
  {
   "cell_type": "code",
   "execution_count": 6,
   "metadata": {},
   "outputs": [],
   "source": [
    "data=data.values"
   ]
  },
  {
   "cell_type": "code",
   "execution_count": null,
   "metadata": {},
   "outputs": [],
   "source": []
  },
  {
   "cell_type": "code",
   "execution_count": 10,
   "metadata": {},
   "outputs": [
    {
     "name": "stdout",
     "output_type": "stream",
     "text": [
      "  316.696 \n",
      "  316.696 \n",
      "  316.696 \n",
      "  316.696 \n",
      "  316.696 \n",
      "Persistence: 316.696 RMSE (+/- 0.000000\n"
     ]
    },
    {
     "data": {
      "image/png": "[encoded data removed]",
      "text/plain": [
       "<Figure size 640x480 with 1 Axes>"
      ]
     },
     "metadata": {},
     "output_type": "display_data"
    }
   ],
   "source": [
    "#data=data.values\n",
    "n_test=164\n",
    "config=[12,24,36]\n",
    "scores=repeat_evaluate(data,config,n_test)\n",
    "\n",
    "summarize_scores('Persistence',scores)"
   ]
  },
  {
   "cell_type": "code",
   "execution_count": 11,
   "metadata": {},
   "outputs": [],
   "source": [
    "def train_test_split(data,n_test):\n",
    "    return data[:-n_test],data[-n_test:]\n",
    "\n",
    "def series_to_supervised(data,n_in,n_out=1):\n",
    "    df=pd.DataFrame(data)\n",
    "    cols=list()\n",
    "\n",
    "    for i in range(n_in,0,-1):\n",
    "        cols.append(df.shift(i))\n",
    "    \n",
    "    for i in range(0,n_out):\n",
    "        cols.append(df.shift(-i))\n",
    "    \n",
    "    agg=pd.concat(cols,axis=1)\n",
    "    agg.dropna(inplace=True)\n",
    "    #print(agg.head(5))\n",
    "\n",
    "    return agg.values\n",
    "def model_fit(train,config):\n",
    "\n",
    "    n_input, n_nodes, n_epochs, n_batch= config\n",
    "\n",
    "    data=series_to_supervised(train,n_input)\n",
    "    # print('model fitting')\n",
    "    train_x, train_y=data[:,:-1],data[:,-1]\n",
    "    #print('Model fitting 2')\n",
    "    model=Sequential()\n",
    "    model.add(Dense(n_nodes,activation='relu',input_dim=n_input))\n",
    "    #model.add(Dense(30,activation='relu'))\n",
    "    model.add(Dense(1))\n",
    "    model.compile(loss='mse',optimizer='adam')\n",
    "\n",
    "    model.fit(train_x,train_y,epochs=n_epochs, batch_size=n_batch,verbose=0)\n",
    "    return model\n",
    "\n",
    "def model_predict(model,history,config):\n",
    "    n_input,_,_,_=config\n",
    "    #values=list()\n",
    "    x_input=np.array(history[-n_input:]).reshape(1,n_input)\n",
    "    #print(x_input)\n",
    "    y_hat=model.predict(x_input,verbose=0)\n",
    "    return y_hat[0]\n",
    "\n",
    "def measure_rmse(actual,prediction):\n",
    "    return math.sqrt(metrics.mean_squared_error(actual,prediction,squared=False))\n",
    "\n",
    "def walk_forward_validation(data,n_test,cfg):\n",
    "    predictions=list()\n",
    "    train,test=train_test_split(data,n_test)\n",
    "\n",
    "    model=model_fit(train,cfg)\n",
    "\n",
    "    history=[x for x in train]\n",
    "    # print(len(history))\n",
    "    # print(type(test))\n",
    "    # print(len(test))\n",
    "    for i in range(len(test)):\n",
    "        yhat=model_predict(model,history,cfg)\n",
    "        predictions.append(yhat)\n",
    "        history.append(test[i])\n",
    "    error=measure_rmse(test,predictions)\n",
    "    print(\"  %.3f \" %error)\n",
    "    return error\n",
    "def repeat_evaluate(data,config,n_test,n_repeats=5):\n",
    "    scores=[walk_forward_validation(data,n_test,config) for _ in range(int(n_repeats))]\n",
    "    return scores\n",
    "def summarize_scores(name,scores):\n",
    "    scores_m, score_std= np.mean(scores), np.std(scores)\n",
    "    print(\"%s: %.3f RMSE (+/- %3f\" %(name,scores_m,score_std))\n",
    "    plt.boxplot(scores)\n",
    "    plt.show()\n"
   ]
  },
  {
   "cell_type": "code",
   "execution_count": null,
   "metadata": {},
   "outputs": [],
   "source": [
    "data=data.values"
   ]
  },
  {
   "attachments": {},
   "cell_type": "markdown",
   "metadata": {},
   "source": [
    "* for 36 days === 137.557\n",
    "* for 24 days === 120.848 \n",
    "* for 12 days === 77.75"
   ]
  },
  {
   "cell_type": "code",
   "execution_count": 14,
   "metadata": {},
   "outputs": [
    {
     "name": "stdout",
     "output_type": "stream",
     "text": [
      "  91.191 \n",
      "  65.160 \n",
      "  81.765 \n",
      "  74.093 \n",
      "  90.408 \n",
      "Persistence: 80.523 RMSE (+/- 9.903870\n"
     ]
    },
    {
     "data": {
      "image/png": "[encoded data removed]",
      "text/plain": [
       "<Figure size 640x480 with 1 Axes>"
      ]
     },
     "metadata": {},
     "output_type": "display_data"
    }
   ],
   "source": [
    "#data=data.values\n",
    "n_test=164\n",
    "config=[12,500,100,100]\n",
    "scores=repeat_evaluate(data,config,n_test)\n",
    "\n",
    "summarize_scores('Persistence',scores)"
   ]
  },
  {
   "cell_type": "code",
   "execution_count": null,
   "metadata": {},
   "outputs": [],
   "source": []
  }
 ],
 "metadata": {
  "kernelspec": {
   "display_name": "email_categorize",
   "language": "python",
   "name": "python3"
  },
  "language_info": {
   "codemirror_mode": {
    "name": "ipython",
    "version": 3
   },
   "file_extension": ".py",
   "mimetype": "text/x-python",
   "name": "python",
   "nbconvert_exporter": "python",
   "pygments_lexer": "ipython3",
   "version": "3.8.0"
  },
  "orig_nbformat": 4,
  "vscode": {
   "interpreter": {
    "hash": "e14e104d4b701a0683345490fba90549ef62b29809b12215744b0dbd5c68f59c"
   }
  }
 },
 "nbformat": 4,
 "nbformat_minor": 2
}
